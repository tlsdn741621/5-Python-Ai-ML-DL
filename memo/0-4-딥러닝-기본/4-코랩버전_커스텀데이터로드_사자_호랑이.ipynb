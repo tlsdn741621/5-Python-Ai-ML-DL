{
 "nbformat": 4,
 "nbformat_minor": 0,
 "metadata": {
  "colab": {
   "provenance": []
  },
  "kernelspec": {
   "name": "python3",
   "display_name": "Python 3 (ipykernel)",
   "language": "python"
  },
  "language_info": {
   "name": "python"
  }
 },
 "cells": [
  {
   "cell_type": "code",
   "metadata": {
    "colab": {
     "base_uri": "https://localhost:8080/"
    },
    "id": "f9K0QkIWrsVB",
    "outputId": "91e96292-b0a7-486c-952e-be9f0aaee21d",
    "ExecuteTime": {
     "end_time": "2025-10-01T05:29:54.830626Z",
     "start_time": "2025-10-01T05:29:54.813626Z"
    }
   },
   "source": [
    "# from google.colab import drive\n",
    "# drive.mount('/content/gdrive')"
   ],
   "outputs": [],
   "execution_count": 2
  },
  {
   "cell_type": "code",
   "source": "# cd/content/gdrive/My Drive/busanit501-1234",
   "metadata": {
    "colab": {
     "base_uri": "https://localhost:8080/"
    },
    "id": "J51bg6MtsfvC",
    "outputId": "5e423e9c-c5b5-45b8-ec2f-3e1824f2d141",
    "ExecuteTime": {
     "end_time": "2025-10-01T05:29:54.861630Z",
     "start_time": "2025-10-01T05:29:54.850633Z"
    }
   },
   "outputs": [],
   "execution_count": 3
  },
  {
   "cell_type": "code",
   "source": [
    "import torch # 파이토치 기본 라이브러리\n",
    "import torchvision # 이미지 관련 된 파이토치 라이브러리\n",
    "import torchvision.transforms as tr # 이미지 전처리 기능들을 제공하는 라이브러리\n",
    "from torch.utils.data import DataLoader, Dataset # 데이터를 모델에 사용할 수 있도록 정리해 주는 라이브러리\n",
    "import numpy as np # 넘파이 기본 라이브러리\n",
    "import matplotlib.pyplot as plt\n",
    "\n"
   ],
   "metadata": {
    "id": "iwJnl--2tV3L",
    "ExecuteTime": {
     "end_time": "2025-10-01T05:29:58.351969Z",
     "start_time": "2025-10-01T05:29:54.879665Z"
    }
   },
   "outputs": [],
   "execution_count": 4
  },
  {
   "cell_type": "code",
   "source": [
    "transf = tr.Compose([tr.Resize(128),tr.ToTensor()]) # 128x128 이미지 크기 변환 후 텐서로 만든다.\n",
    "trainset = torchvision.datasets.ImageFolder(root='./class', transform=transf) # 커스텀 데이터 불러온다.\n",
    "trainloader = DataLoader(trainset, batch_size=2, shuffle=False) # 데이터를 미니 배치 형태로 만들어 준다."
   ],
   "metadata": {
    "id": "YYk_epT4tdzZ",
    "ExecuteTime": {
     "end_time": "2025-10-01T05:29:58.399961Z",
     "start_time": "2025-10-01T05:29:58.371964Z"
    }
   },
   "outputs": [],
   "execution_count": 5
  },
  {
   "cell_type": "code",
   "source": [
    "# iter, next를 이용해 일부 데이터를 확인할 수 있다.\n",
    "images, labels = next(iter(trainloader))\n",
    "print(images.size())\n",
    "\n",
    "# 일반적으로 학습 데이터는 4차원 형태로 모델에서 사용된다.\n",
    "# (배치 크기)x(채널 수)x(높이)x(너비)\n",
    "# torch.Size([50, 3, 16, 16])\n",
    "oneshot = images[1].permute(1,2,0).numpy()\n",
    "plt.figure(figsize=(2,2))\n",
    "plt.imshow(oneshot)\n",
    "plt.axis(\"off\")\n",
    "plt.show()"
   ],
   "metadata": {
    "colab": {
     "base_uri": "https://localhost:8080/",
     "height": 209
    },
    "id": "_UaW8FVUtkp6",
    "outputId": "3e99c8cd-19c2-4d76-f93d-96618200e72c",
    "ExecuteTime": {
     "start_time": "2025-10-01T05:29:58.408964Z"
    }
   },
   "outputs": [
    {
     "name": "stdout",
     "output_type": "stream",
     "text": [
      "torch.Size([2, 3, 134, 128])\n"
     ]
    }
   ],
   "execution_count": null
  },
  {
   "cell_type": "code",
   "source": [],
   "metadata": {
    "id": "iqB6M_cgtv0W"
   },
   "execution_count": null,
   "outputs": []
  }
 ]
}
