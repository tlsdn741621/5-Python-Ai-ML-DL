{
 "nbformat": 4,
 "nbformat_minor": 0,
 "metadata": {
  "kernelspec": {
   "display_name": "Python 3",
   "language": "python",
   "name": "python3"
  },
  "language_info": {
   "codemirror_mode": {
    "name": "ipython",
    "version": 3
   },
   "file_extension": ".py",
   "mimetype": "text/x-python",
   "name": "python",
   "nbconvert_exporter": "python",
   "pygments_lexer": "ipython3",
   "version": "3.7.4"
  },
  "colab": {
   "name": "5.1 Linear Regression.ipynb",
   "provenance": [],
   "collapsed_sections": []
  }
 },
 "cells": [
  {
   "cell_type": "markdown",
   "metadata": {
    "id": "07ZXneEut-XV"
   },
   "source": [
    "# 5. 인공신경망\n",
    "## 5.1 다층 퍼셉트론\n",
    "### 5.1.1 선형 회귀"
   ]
  },
  {
   "cell_type": "code",
   "metadata": {
    "id": "MNmI5saPt9Rr",
    "executionInfo": {
     "status": "ok",
     "timestamp": 1636292728197,
     "user_tz": -60,
     "elapsed": 26464,
     "user": {
      "displayName": "딥러닝호형",
      "photoUrl": "https://lh3.googleusercontent.com/a-/AOh14GhhDjkGnBZ0JW1k2J6y2lNP9dJeVbQWPuZEpfUc=s64",
      "userId": "11263585794403583722"
     }
    },
    "ExecuteTime": {
     "end_time": "2025-03-18T02:11:42.806404Z",
     "start_time": "2025-03-18T02:11:39.859989Z"
    }
   },
   "source": [
    "import torch\n",
    "import torch.nn as nn\n",
    "from matplotlib import pyplot as plt"
   ],
   "outputs": [],
   "execution_count": 1
  },
  {
   "cell_type": "code",
   "metadata": {
    "id": "Ca2BKCLmt9Rs",
    "executionInfo": {
     "status": "ok",
     "timestamp": 1636292742858,
     "user_tz": -60,
     "elapsed": 244,
     "user": {
      "displayName": "딥러닝호형",
      "photoUrl": "https://lh3.googleusercontent.com/a-/AOh14GhhDjkGnBZ0JW1k2J6y2lNP9dJeVbQWPuZEpfUc=s64",
      "userId": "11263585794403583722"
     }
    },
    "ExecuteTime": {
     "end_time": "2025-03-18T02:11:42.838378Z",
     "start_time": "2025-03-18T02:11:42.813381Z"
    }
   },
   "source": [
    "x = torch.FloatTensor(range(5)).unsqueeze(1)\n",
    "y = 2*x + torch.rand(5,1)"
   ],
   "outputs": [],
   "execution_count": 2
  },
  {
   "cell_type": "code",
   "metadata": {
    "id": "RyRkE_A8t9Rt",
    "executionInfo": {
     "status": "ok",
     "timestamp": 1636292746970,
     "user_tz": -60,
     "elapsed": 226,
     "user": {
      "displayName": "딥러닝호형",
      "photoUrl": "https://lh3.googleusercontent.com/a-/AOh14GhhDjkGnBZ0JW1k2J6y2lNP9dJeVbQWPuZEpfUc=s64",
      "userId": "11263585794403583722"
     }
    },
    "ExecuteTime": {
     "end_time": "2025-03-18T02:11:43.342390Z",
     "start_time": "2025-03-18T02:11:43.329384Z"
    }
   },
   "source": [
    "class LinearRegressor(nn.Module):\n",
    "    def __init__(self):\n",
    "        super().__init__() # 모델 연산 정의\n",
    "        self.fc = nn.Linear(1, 1, bias=True)\n",
    "    \n",
    "    def forward(self, x): \n",
    "        y = self.fc(x)\n",
    "      \n",
    "        return y  "
   ],
   "outputs": [],
   "execution_count": 3
  },
  {
   "cell_type": "code",
   "metadata": {
    "id": "xITBpyVBt9Rt",
    "executionInfo": {
     "status": "ok",
     "timestamp": 1636292908013,
     "user_tz": -60,
     "elapsed": 223,
     "user": {
      "displayName": "딥러닝호형",
      "photoUrl": "https://lh3.googleusercontent.com/a-/AOh14GhhDjkGnBZ0JW1k2J6y2lNP9dJeVbQWPuZEpfUc=s64",
      "userId": "11263585794403583722"
     }
    },
    "ExecuteTime": {
     "end_time": "2025-03-18T02:11:43.406384Z",
     "start_time": "2025-03-18T02:11:43.392377Z"
    }
   },
   "source": [
    "model = LinearRegressor()"
   ],
   "outputs": [],
   "execution_count": 4
  },
  {
   "cell_type": "code",
   "metadata": {
    "id": "ZVdHj0DSt9Rt",
    "executionInfo": {
     "status": "ok",
     "timestamp": 1636292908972,
     "user_tz": -60,
     "elapsed": 6,
     "user": {
      "displayName": "딥러닝호형",
      "photoUrl": "https://lh3.googleusercontent.com/a-/AOh14GhhDjkGnBZ0JW1k2J6y2lNP9dJeVbQWPuZEpfUc=s64",
      "userId": "11263585794403583722"
     }
    },
    "ExecuteTime": {
     "end_time": "2025-03-18T02:11:45.023478Z",
     "start_time": "2025-03-18T02:11:43.454378Z"
    }
   },
   "source": [
    "learning_rate = 1e-3\n",
    "# 손실함수, 실제 값, 예측 값, 손실을 구하는 함수.\n",
    "criterion = nn.MSELoss()\n",
    "# 최적화, 확률적 경사 하강법, 데이터를 확률적으로 살펴보면서, 위에서, 아래 방향으로\n",
    "# 내려 오면서, 최적 파라미터 값을 찾는 방법을 말함.\n",
    "# learning_rate 내려오는 보폭.\n",
    "# 최적화,\n",
    "# 비유, 산에서, 출발지 내려오는 길\n",
    "# 1번길, 경사가 급하고,\n",
    "# 2번길, 완만하고,\n",
    "# 3번길, 돌맹이가 조금 많고,\n",
    "# 4번길, 풀, 나무 빽빽함.\n",
    "# 결론, 웨이트 값의 최솟값을 찾아가는 과정.\n",
    "optimizer = torch.optim.SGD(model.parameters(), lr=learning_rate)"
   ],
   "outputs": [],
   "execution_count": 5
  },
  {
   "cell_type": "code",
   "metadata": {
    "id": "ZM0blG8vt9Ru",
    "colab": {
     "base_uri": "https://localhost:8080/"
    },
    "executionInfo": {
     "status": "ok",
     "timestamp": 1636292924948,
     "user_tz": -60,
     "elapsed": 544,
     "user": {
      "displayName": "딥러닝호형",
      "photoUrl": "https://lh3.googleusercontent.com/a-/AOh14GhhDjkGnBZ0JW1k2J6y2lNP9dJeVbQWPuZEpfUc=s64",
      "userId": "11263585794403583722"
     }
    },
    "outputId": "049f05d0-9abb-4e8f-8841-b42fc3d7dda9",
    "ExecuteTime": {
     "end_time": "2025-03-18T02:11:45.384801Z",
     "start_time": "2025-03-18T02:11:45.029470Z"
    }
   },
   "source": [
    "loss_stack = [] # 손실 값들의 조사를 해서, 실행 할 때마다 변화율을 보기.\n",
    "for epoch in range(1001):\n",
    "\n",
    "    # 매 실행시 마다, 초기기화를 해서, 최적값을 조사.\n",
    "    optimizer.zero_grad()\n",
    "\n",
    "    # 예측값\n",
    "    y_hat = model(x)\n",
    "    # 실제값 과 예측값을 비교.\n",
    "    loss = criterion(y_hat,y)\n",
    "    # 역전파, 최적화 과정, SGD 이용해서, 최적 웨이트 찾는데,\n",
    "    # 도구, 미분이라는 도구 이용해서, 최소값을 찾아가기.\n",
    "    # y = wx + b, : w, b .웨이트를 업데이트 함.\n",
    "    loss.backward()\n",
    "    # 그 다음 웨이트를 업데이트 하는 과정.\n",
    "    optimizer.step()\n",
    "    # 손실 값을 기록하기.\n",
    "    loss_stack.append(loss.item())\n",
    "    \n",
    "    if epoch % 100 == 0:\n",
    "        print(f'Epoch {epoch}:{loss.item()}')"
   ],
   "outputs": [
    {
     "name": "stdout",
     "output_type": "stream",
     "text": [
      "Epoch 0:11.08624267578125\n",
      "Epoch 100:0.7622064352035522\n",
      "Epoch 200:0.06748096644878387\n",
      "Epoch 300:0.020709345117211342\n",
      "Epoch 400:0.01754072867333889\n",
      "Epoch 500:0.017308682203292847\n",
      "Epoch 600:0.0172763429582119\n",
      "Epoch 700:0.017259303480386734\n",
      "Epoch 800:0.017245015129446983\n",
      "Epoch 900:0.017232321202754974\n",
      "Epoch 1000:0.01722109690308571\n"
     ]
    }
   ],
   "execution_count": 6
  },
  {
   "cell_type": "code",
   "metadata": {
    "id": "yGBUaYRst9Ru",
    "executionInfo": {
     "status": "ok",
     "timestamp": 1636292932232,
     "user_tz": -60,
     "elapsed": 224,
     "user": {
      "displayName": "딥러닝호형",
      "photoUrl": "https://lh3.googleusercontent.com/a-/AOh14GhhDjkGnBZ0JW1k2J6y2lNP9dJeVbQWPuZEpfUc=s64",
      "userId": "11263585794403583722"
     }
    },
    "ExecuteTime": {
     "end_time": "2025-03-18T02:11:45.416771Z",
     "start_time": "2025-03-18T02:11:45.401771Z"
    }
   },
   "source": [
    "with torch.no_grad():\n",
    "    y_hat = model(x)"
   ],
   "outputs": [],
   "execution_count": 7
  },
  {
   "cell_type": "code",
   "metadata": {
    "id": "mLRYdOvzt9Rv",
    "colab": {
     "base_uri": "https://localhost:8080/",
     "height": 336
    },
    "executionInfo": {
     "status": "ok",
     "timestamp": 1636292937202,
     "user_tz": -60,
     "elapsed": 577,
     "user": {
      "displayName": "딥러닝호형",
      "photoUrl": "https://lh3.googleusercontent.com/a-/AOh14GhhDjkGnBZ0JW1k2J6y2lNP9dJeVbQWPuZEpfUc=s64",
      "userId": "11263585794403583722"
     }
    },
    "outputId": "dcb72c28-a1b3-457a-dded-b6caa37e33b4",
    "ExecuteTime": {
     "start_time": "2025-03-18T02:11:45.434773Z"
    }
   },
   "source": [
    "plt.figure(figsize=(10, 5))\n",
    "plt.subplot(121)\n",
    "plt.plot(loss_stack)\n",
    "plt.title(\"Loss\")\n",
    "plt.subplot(122)\n",
    "plt.plot(x, y,'.b')\n",
    "plt.plot(x, y_hat, 'r-')\n",
    "plt.legend(['ground truth','prediction'])\n",
    "plt.title(\"Prediction\")\n",
    "plt.show()"
   ],
   "outputs": [],
   "execution_count": null
  },
  {
   "cell_type": "code",
   "metadata": {
    "id": "th-V83L9xSd9"
   },
   "source": [
    ""
   ],
   "execution_count": null,
   "outputs": []
  }
 ]
}
