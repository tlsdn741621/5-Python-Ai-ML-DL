{
 "cells": [
  {
   "metadata": {
    "ExecuteTime": {
     "end_time": "2025-09-30T07:15:10.154654Z",
     "start_time": "2025-09-30T07:15:08.137214Z"
    }
   },
   "cell_type": "code",
   "source": "import torch",
   "id": "4348ad79e99e1eda",
   "outputs": [],
   "execution_count": 1
  },
  {
   "metadata": {
    "ExecuteTime": {
     "end_time": "2025-09-30T07:15:10.170872Z",
     "start_time": "2025-09-30T07:15:10.162367Z"
    }
   },
   "cell_type": "code",
   "source": [
    "# 📌 문제 1: PyTorch에서 랜덤 텐서를 생성하고, 가장 큰 값을 가진 인덱스를 찾으세요.\n",
    "\n",
    "# (1) 4x4 크기의 랜덤 텐서를 생성하세요.\n",
    "x = torch.rand(4,4)\n",
    "print(x)\n",
    "# (2) 각 행에서 가장 큰 값을 가진 인덱스를 찾으세요.\n",
    "max_indices = torch.argmax(x, dim=1)\n",
    "print(max_indices)"
   ],
   "id": "ba763aba966a972d",
   "outputs": [
    {
     "name": "stdout",
     "output_type": "stream",
     "text": [
      "tensor([[0.8037, 0.3275, 0.6045, 0.0343],\n",
      "        [0.8424, 0.1519, 0.2734, 0.9372],\n",
      "        [0.7287, 0.4568, 0.2608, 0.3423],\n",
      "        [0.9110, 0.0039, 0.8957, 0.2326]])\n",
      "tensor([0, 3, 0, 0])\n"
     ]
    }
   ],
   "execution_count": 2
  },
  {
   "metadata": {
    "ExecuteTime": {
     "end_time": "2025-09-30T07:15:10.186266Z",
     "start_time": "2025-09-30T07:15:10.181419Z"
    }
   },
   "cell_type": "code",
   "source": [
    "# 📌 문제 2: squeeze()와 unsqueeze()를 이용해 텐서의 차원을 조작하세요.\n",
    "#\n",
    "# # (1) (1, 3, 1, 4) 크기의 랜덤 텐서를 생성하세요.\n",
    "x = torch.rand(1,3,1,4)\n",
    "# # (2) squeeze()를 사용하여 크기를 줄이세요.\n",
    "x_squeezed = x.squeeze()\n",
    "print(x_squeezed.shape)\n",
    "# # (3) unsqueeze()를 사용하여 특정 차원에 새 차원을 추가하세요.\n",
    "x_unsqueezed = x_squeezed.unsqueeze_(1)\n",
    "print(x_unsqueezed.shape)"
   ],
   "id": "85046d4da6e6da62",
   "outputs": [
    {
     "name": "stdout",
     "output_type": "stream",
     "text": [
      "torch.Size([3, 4])\n",
      "torch.Size([3, 1, 4])\n"
     ]
    }
   ],
   "execution_count": 3
  },
  {
   "metadata": {
    "ExecuteTime": {
     "end_time": "2025-09-30T07:15:10.214793Z",
     "start_time": "2025-09-30T07:15:10.208679Z"
    }
   },
   "cell_type": "code",
   "source": [
    "# 📌 문제 3: torch.cat()과 torch.stack()의 차이를 확인하세요.\n",
    "# (1) 크기가 (2,3)인 두 개의 텐서를 만드세요.\n",
    "a = torch.tensor([[1,2,3],[4,5,6]])\n",
    "b = torch.tensor([[7,8,9],[10,11,12]])\n",
    "# (2) torch.cat()을 이용하여 dim=0 방향으로 연결하세요.\n",
    "cat_result = torch.cat([a,b], dim=0)\n",
    "print(cat_result)\n",
    "print(cat_result.shape)\n",
    "# (3) torch.stack()을 이용하여 dim=0 방향으로 스택하세요.\n",
    "stack_result = torch.stack([a,b], dim=0)\n",
    "print(stack_result)\n",
    "print(stack_result.shape)\n"
   ],
   "id": "f3f41ef0c211e8db",
   "outputs": [
    {
     "name": "stdout",
     "output_type": "stream",
     "text": [
      "tensor([[ 1,  2,  3],\n",
      "        [ 4,  5,  6],\n",
      "        [ 7,  8,  9],\n",
      "        [10, 11, 12]])\n",
      "torch.Size([4, 3])\n",
      "tensor([[[ 1,  2,  3],\n",
      "         [ 4,  5,  6]],\n",
      "\n",
      "        [[ 7,  8,  9],\n",
      "         [10, 11, 12]]])\n",
      "torch.Size([2, 2, 3])\n"
     ]
    }
   ],
   "execution_count": 4
  },
  {
   "metadata": {
    "ExecuteTime": {
     "end_time": "2025-09-30T07:15:10.259040Z",
     "start_time": "2025-09-30T07:15:10.252612Z"
    }
   },
   "cell_type": "code",
   "source": [
    "# 📌 문제 4: torch.index_select()를 이용해 특정 행/열을 선택하세요.\n",
    "\n",
    "# (1) 크기가 (4,4)인 랜덤 텐서를 생성하세요.\n",
    "x = torch.rand(4, 4)\n",
    "print(\"원본 텐서:\\n\", x)\n",
    "# (2) 첫 번째 열과 세 번째 열을 선택하여 새로운 텐서를 만드세요.\n",
    "indices = torch.tensor([0, 2])\n",
    "selected_cols = torch.index_select(x, dim=1, index=indices)\n",
    "print(\"선택된 열들:\\n\", selected_cols)"
   ],
   "id": "ad41a24af0dd014a",
   "outputs": [
    {
     "name": "stdout",
     "output_type": "stream",
     "text": [
      "원본 텐서:\n",
      " tensor([[0.0674, 0.0901, 0.5934, 0.2295],\n",
      "        [0.8279, 0.9549, 0.4802, 0.2687],\n",
      "        [0.8162, 0.1467, 0.6048, 0.4518],\n",
      "        [0.1336, 0.8270, 0.9509, 0.6958]])\n",
      "선택된 열들:\n",
      " tensor([[0.0674, 0.5934],\n",
      "        [0.8279, 0.4802],\n",
      "        [0.8162, 0.6048],\n",
      "        [0.1336, 0.9509]])\n"
     ]
    }
   ],
   "execution_count": 5
  },
  {
   "metadata": {
    "ExecuteTime": {
     "end_time": "2025-09-30T07:15:10.275211Z",
     "start_time": "2025-09-30T07:15:10.268871Z"
    }
   },
   "cell_type": "code",
   "source": [
    "# 📌 문제 5: torch.topk()와 masked_fill()을 조합하여\n",
    "# 특정 조건을 만족하는 값을 변경하세요.\n",
    "\n",
    "# (1) 크기가 (3,5)인 랜덤 텐서를 생성하세요.\n",
    "x = torch.rand(3, 5)\n",
    "print(\"원본 텐서:\\n\", x)\n",
    "# (2) 각 행에서 상위 3개의 값만 유지하고 나머지는 0으로 채우세요.\n",
    "values, indices = torch.topk(x, k=3, dim=1)\n",
    "#(3) 나머지 모든 원소는 0으로 만들고, 상위 3개만 위치만 유지.\n",
    "# scatter_(1, indices, 1), 1 : 열기준으로 값을 할당,\n",
    "# 찾은 위치의 값 할당,\n",
    "# 1 : 해당 위치에 1로 값을 변경.\n",
    "mask = torch.zeros_like(x).scatter_(1, indices, 1)\n",
    "masked_x = x * mask\n",
    "print(\"상위 3개 값만 유지된 텐서:\\n\", masked_x)"
   ],
   "id": "7e89d858e2cfb8b1",
   "outputs": [
    {
     "name": "stdout",
     "output_type": "stream",
     "text": [
      "원본 텐서:\n",
      " tensor([[0.4417, 0.0509, 0.5322, 0.1367, 0.1304],\n",
      "        [0.4172, 0.9526, 0.9586, 0.7350, 0.5414],\n",
      "        [0.9309, 0.6002, 0.6516, 0.7673, 0.6304]])\n",
      "상위 3개 값만 유지된 텐서:\n",
      " tensor([[0.4417, 0.0000, 0.5322, 0.1367, 0.0000],\n",
      "        [0.0000, 0.9526, 0.9586, 0.7350, 0.0000],\n",
      "        [0.9309, 0.0000, 0.6516, 0.7673, 0.0000]])\n"
     ]
    }
   ],
   "execution_count": 6
  },
  {
   "metadata": {
    "ExecuteTime": {
     "end_time": "2025-09-30T07:15:10.288035Z",
     "start_time": "2025-09-30T07:15:10.282378Z"
    }
   },
   "cell_type": "code",
   "source": [
    "# 📌 문제 6: torch.randperm()을 이용하여 데이터를 랜덤하게 섞은 후,\n",
    "# torch.chunk()로 나누세요.\n",
    "#\n",
    "# (1) 10개의 원소를 가진 텐서를 0~9까지 숫자로 채우세요.\n",
    "x = torch.arange(10)\n",
    "print(\"원본 텐서:\", x)\n",
    "\n",
    "# (2) `torch.randperm()`을 사용하여 무작위로 섞으세요.\n",
    "shuffled_x = x[torch.randperm(10)]\n",
    "print(\"섞인 텐서:\", shuffled_x)\n",
    "# (3) `torch.chunk()`를 사용하여 2개의 부분으로 나누세요.\n",
    "chunks = torch.chunk(shuffled_x, chunks=2)\n",
    "print(\"첫 번째 부분:\", chunks[0])\n",
    "print(\"두 번째 부분:\", chunks[1])"
   ],
   "id": "779c6c937d4a789",
   "outputs": [
    {
     "name": "stdout",
     "output_type": "stream",
     "text": [
      "원본 텐서: tensor([0, 1, 2, 3, 4, 5, 6, 7, 8, 9])\n",
      "섞인 텐서: tensor([7, 0, 1, 9, 2, 3, 6, 5, 4, 8])\n",
      "첫 번째 부분: tensor([7, 0, 1, 9, 2])\n",
      "두 번째 부분: tensor([3, 6, 5, 4, 8])\n"
     ]
    }
   ],
   "execution_count": 7
  },
  {
   "metadata": {
    "ExecuteTime": {
     "end_time": "2025-09-30T07:15:10.300032Z",
     "start_time": "2025-09-30T07:15:10.295175Z"
    }
   },
   "cell_type": "code",
   "source": [
    "# 📌 문제 7: expand()를 사용하여 텐서 크기를 확장하세요.\n",
    "\n",
    "# (1) 크기가 (1, 3)인 텐서를 생성하세요.\n",
    "x = torch.tensor([[1, 2, 3]])  # Shape: (1,3)\n",
    "print(\"원본 텐서:\\n\", x)\n",
    "# (2) `expand()`를 사용하여 (5, 3) 크기로 확장하세요.\n",
    "expanded_x = x.expand(5, 3)\n",
    "print(\"expand() 적용 후:\\n\", expanded_x)\n"
   ],
   "id": "820970dc612f5322",
   "outputs": [
    {
     "name": "stdout",
     "output_type": "stream",
     "text": [
      "원본 텐서:\n",
      " tensor([[1, 2, 3]])\n",
      "expand() 적용 후:\n",
      " tensor([[1, 2, 3],\n",
      "        [1, 2, 3],\n",
      "        [1, 2, 3],\n",
      "        [1, 2, 3],\n",
      "        [1, 2, 3]])\n"
     ]
    }
   ],
   "execution_count": 8
  },
  {
   "metadata": {
    "ExecuteTime": {
     "end_time": "2025-09-30T07:15:10.315171Z",
     "start_time": "2025-09-30T07:15:10.308691Z"
    }
   },
   "cell_type": "code",
   "source": [
    "# 📌 문제 8: split()과 chunk()의 차이를 이해하세요.\n",
    "#\n",
    "# (1) 크기가 (10,)인 1D 텐서를 생성하세요.\n",
    "x = torch.arange(10)\n",
    "print(\"원본 텐서:\", x)\n",
    "# (2) `split()`을 사용하여 3개의 텐서로 나누세요.\n",
    "split_result = torch.split(x, [3, 3, 4])\n",
    "print(\"split() 결과:\", split_result)\n",
    "# (3) `chunk()`을 사용하여 3개의 텐서로 나누세요.\n",
    "chunk_result = torch.chunk(x, chunks=3)\n",
    "print(\"chunk() 결과:\", chunk_result)"
   ],
   "id": "4cfad53a64a335ab",
   "outputs": [
    {
     "name": "stdout",
     "output_type": "stream",
     "text": [
      "원본 텐서: tensor([0, 1, 2, 3, 4, 5, 6, 7, 8, 9])\n",
      "split() 결과: (tensor([0, 1, 2]), tensor([3, 4, 5]), tensor([6, 7, 8, 9]))\n",
      "chunk() 결과: (tensor([0, 1, 2, 3]), tensor([4, 5, 6, 7]), tensor([8, 9]))\n"
     ]
    }
   ],
   "execution_count": 9
  },
  {
   "metadata": {
    "ExecuteTime": {
     "end_time": "2025-09-30T07:15:10.327978Z",
     "start_time": "2025-09-30T07:15:10.322530Z"
    }
   },
   "cell_type": "code",
   "source": [
    "# 📌 문제 9: masked_fill()을 사용하여 특정 조건을 만족하는 요소를 변경하세요.\n",
    "\n",
    "# (1) 크기가 (3, 3)인 랜덤 텐서를 생성하세요.\n",
    "x = torch.rand(3, 3)\n",
    "print(\"원본 텐서:\\n\", x)\n",
    "\n",
    "# (2) 값이 0.5보다 작은 요소를 -1로 변경하세요.\n",
    "masked_x = x.masked_fill(x < 0.5, -1)\n",
    "print(\"masked_fill() 적용 후:\\n\", masked_x)\n"
   ],
   "id": "54c4e1030d4f6300",
   "outputs": [
    {
     "name": "stdout",
     "output_type": "stream",
     "text": [
      "원본 텐서:\n",
      " tensor([[0.9803, 0.5729, 0.7284],\n",
      "        [0.5148, 0.4274, 0.6849],\n",
      "        [0.7795, 0.3085, 0.3420]])\n",
      "masked_fill() 적용 후:\n",
      " tensor([[ 0.9803,  0.5729,  0.7284],\n",
      "        [ 0.5148, -1.0000,  0.6849],\n",
      "        [ 0.7795, -1.0000, -1.0000]])\n"
     ]
    }
   ],
   "execution_count": 10
  },
  {
   "metadata": {
    "ExecuteTime": {
     "end_time": "2025-09-30T07:15:10.341762Z",
     "start_time": "2025-09-30T07:15:10.335600Z"
    }
   },
   "cell_type": "code",
   "source": [
    "# 📌 문제 10: torch.index_select()를 이용하여 특정 행을 선택하세요.\n",
    "#\n",
    "# (1) 크기가 (5, 4)인 랜덤 텐서를 생성하세요.\n",
    "x = torch.rand(5, 4)\n",
    "print(\"원본 텐서:\\n\", x)\n",
    "\n",
    "# (2) 두 번째와 네 번째 행만 선택하세요.\n",
    "indices = torch.tensor([1, 3])\n",
    "selected_rows = torch.index_select(x, dim=0, index=indices)\n",
    "print(\"선택된 행들:\\n\", selected_rows)"
   ],
   "id": "736c6a9c109422ea",
   "outputs": [
    {
     "name": "stdout",
     "output_type": "stream",
     "text": [
      "원본 텐서:\n",
      " tensor([[0.4842, 0.7217, 0.9215, 0.9717],\n",
      "        [0.6177, 0.4155, 0.4597, 0.1098],\n",
      "        [0.8825, 0.9198, 0.1683, 0.2988],\n",
      "        [0.5086, 0.9259, 0.2840, 0.2067],\n",
      "        [0.7417, 0.1363, 0.6258, 0.9688]])\n",
      "선택된 행들:\n",
      " tensor([[0.6177, 0.4155, 0.4597, 0.1098],\n",
      "        [0.5086, 0.9259, 0.2840, 0.2067]])\n"
     ]
    }
   ],
   "execution_count": 11
  },
  {
   "metadata": {
    "collapsed": true,
    "ExecuteTime": {
     "end_time": "2025-09-30T07:15:10.350634Z",
     "start_time": "2025-09-30T07:15:10.348690Z"
    }
   },
   "cell_type": "code",
   "source": "",
   "id": "initial_id",
   "outputs": [],
   "execution_count": null
  }
 ],
 "metadata": {
  "kernelspec": {
   "display_name": "Python 3",
   "language": "python",
   "name": "python3"
  },
  "language_info": {
   "codemirror_mode": {
    "name": "ipython",
    "version": 2
   },
   "file_extension": ".py",
   "mimetype": "text/x-python",
   "name": "python",
   "nbconvert_exporter": "python",
   "pygments_lexer": "ipython2",
   "version": "2.7.6"
  }
 },
 "nbformat": 4,
 "nbformat_minor": 5
}
