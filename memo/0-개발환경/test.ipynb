{
 "cells": [
  {
   "cell_type": "code",
   "id": "initial_id",
   "metadata": {
    "collapsed": true,
    "ExecuteTime": {
     "end_time": "2025-10-01T00:31:33.442907Z",
     "start_time": "2025-10-01T00:31:29.646548Z"
    }
   },
   "source": [
    "import torch\n",
    "print(torch.__version__)  # 설치된 PyTorch 버전 출력\n",
    "print(torch.cuda.is_available())  # CUDA 사용 가능 여부 확인\n",
    "\n",
    "if torch.cuda.is_available():\n",
    "    print(f\"GPU 사용 가능: {torch.cuda.get_device_name(0)}\")\n",
    "else:\n",
    "    print(\"GPU를 사용할 수 없습니다. CPU를 사용합니다.\")\n",
    "\n",
    "x = torch.rand(3, 3)\n",
    "y = torch.rand(3, 3)\n",
    "z = x + y\n",
    "print(\"x:\", x)\n",
    "print(\"y:\", y)\n",
    "print(\"z:\", z)"
   ],
   "outputs": [
    {
     "name": "stdout",
     "output_type": "stream",
     "text": [
      "2.8.0+cpu\n",
      "False\n",
      "GPU를 사용할 수 없습니다. CPU를 사용합니다.\n",
      "x: tensor([[0.3691, 0.6096, 0.1279],\n",
      "        [0.6550, 0.4162, 0.7734],\n",
      "        [0.9217, 0.2520, 0.9747]])\n",
      "y: tensor([[0.1690, 0.1560, 0.2170],\n",
      "        [0.3368, 0.0324, 0.9282],\n",
      "        [0.4635, 0.0495, 0.7026]])\n",
      "z: tensor([[0.5381, 0.7655, 0.3449],\n",
      "        [0.9917, 0.4486, 1.7016],\n",
      "        [1.3853, 0.3015, 1.6773]])\n"
     ]
    }
   ],
   "execution_count": 1
  },
  {
   "metadata": {
    "ExecuteTime": {
     "end_time": "2025-09-30T07:14:59.122883Z",
     "start_time": "2025-09-30T07:14:59.116896Z"
    }
   },
   "cell_type": "code",
   "source": [
    "x = torch.ones(3, 3)  # 기존 텐서\n",
    "print(x)\n",
    "rand_tensor = torch.randint_like(x, 0, 10)  # 기존 크기 유지, 0~9 정수 샘플링\n",
    "\n",
    "print(rand_tensor)"
   ],
   "id": "4b32e8e5926831b0",
   "outputs": [
    {
     "name": "stdout",
     "output_type": "stream",
     "text": [
      "tensor([[1., 1., 1.],\n",
      "        [1., 1., 1.],\n",
      "        [1., 1., 1.]])\n",
      "tensor([[8., 1., 0.],\n",
      "        [8., 6., 3.],\n",
      "        [8., 6., 5.]])\n"
     ]
    }
   ],
   "execution_count": 2
  },
  {
   "metadata": {
    "ExecuteTime": {
     "end_time": "2025-09-30T07:14:59.156928Z",
     "start_time": "2025-09-30T07:14:59.152420Z"
    }
   },
   "cell_type": "code",
   "source": [
    "tensor = torch.randperm(10)  # 0~9 정수를 무작위 섞기\n",
    "print(tensor)"
   ],
   "id": "af142065e0fee424",
   "outputs": [
    {
     "name": "stdout",
     "output_type": "stream",
     "text": [
      "tensor([7, 3, 5, 2, 0, 6, 8, 4, 1, 9])\n"
     ]
    }
   ],
   "execution_count": 3
  },
  {
   "metadata": {
    "ExecuteTime": {
     "end_time": "2025-09-30T07:14:59.189965Z",
     "start_time": "2025-09-30T07:14:59.185608Z"
    }
   },
   "cell_type": "code",
   "source": [
    "probs = torch.tensor([0.2, 0.8, 0.5, 0.9])  # 0~1 사이 확률값\n",
    "\n",
    "tensor = torch.bernoulli(probs)  # 각 확률에 따라 0 또는 1 생성\n",
    "\n",
    "print(tensor)"
   ],
   "id": "98406017e2b8145",
   "outputs": [
    {
     "name": "stdout",
     "output_type": "stream",
     "text": [
      "tensor([0., 1., 1., 1.])\n"
     ]
    }
   ],
   "execution_count": 4
  },
  {
   "metadata": {
    "ExecuteTime": {
     "end_time": "2025-09-30T07:14:59.209154Z",
     "start_time": "2025-09-30T07:14:59.206923Z"
    }
   },
   "cell_type": "code",
   "source": "",
   "id": "356467065e4a76a7",
   "outputs": [],
   "execution_count": null
  },
  {
   "metadata": {
    "ExecuteTime": {
     "end_time": "2025-09-30T07:14:59.225255Z",
     "start_time": "2025-09-30T07:14:59.221028Z"
    }
   },
   "cell_type": "code",
   "source": [
    "probs = torch.tensor([0.1, 0.2, 0.3, 0.4])  # 각 요소의 선택 확률\n",
    "tensor = torch.multinomial(probs, 2, replacement=True)  # 2개 선택 (복원 추출)\n",
    "print(tensor)"
   ],
   "id": "d25803f93bc603e9",
   "outputs": [
    {
     "name": "stdout",
     "output_type": "stream",
     "text": [
      "tensor([0, 1])\n"
     ]
    }
   ],
   "execution_count": 5
  },
  {
   "metadata": {
    "ExecuteTime": {
     "end_time": "2025-09-30T07:14:59.244201Z",
     "start_time": "2025-09-30T07:14:59.236674Z"
    }
   },
   "cell_type": "code",
   "source": [
    "torch.manual_seed(42)  # 시드 고정\n",
    "print(torch.rand(3, 3))  # 동일한 난수 생성"
   ],
   "id": "249ffe42b169e97",
   "outputs": [
    {
     "name": "stdout",
     "output_type": "stream",
     "text": [
      "tensor([[0.8823, 0.9150, 0.3829],\n",
      "        [0.9593, 0.3904, 0.6009],\n",
      "        [0.2566, 0.7936, 0.9408]])\n"
     ]
    }
   ],
   "execution_count": 6
  },
  {
   "metadata": {
    "ExecuteTime": {
     "end_time": "2025-09-30T07:14:59.253852Z",
     "start_time": "2025-09-30T07:14:59.251706Z"
    }
   },
   "cell_type": "code",
   "source": "",
   "id": "2b39847238ceb568",
   "outputs": [],
   "execution_count": null
  },
  {
   "metadata": {
    "ExecuteTime": {
     "end_time": "2025-09-30T07:14:59.270522Z",
     "start_time": "2025-09-30T07:14:59.263824Z"
    }
   },
   "cell_type": "code",
   "source": [
    "import torch\n",
    "\n",
    "# 기존 텐서\n",
    "x = torch.tensor([1, 2, 3], dtype=torch.float32)\n",
    "\n",
    "# 일반 연산 (새로운 텐서 반환)\n",
    "y = x + 10\n",
    "print(\"x (원본):\", x)  # 원본 텐서 변경 없음\n",
    "print(\"y (새로운 텐서):\", y)  # 새로운 텐서 생성됨\n",
    "\n",
    "# 인플레이스 연산\n",
    "x.add_(10)\n",
    "print(\"x (인플레이스 연산 후):\", x)  # 기존 텐서가 변경됨"
   ],
   "id": "f4efc7660ff379eb",
   "outputs": [
    {
     "name": "stdout",
     "output_type": "stream",
     "text": [
      "x (원본): tensor([1., 2., 3.])\n",
      "y (새로운 텐서): tensor([11., 12., 13.])\n",
      "x (인플레이스 연산 후): tensor([11., 12., 13.])\n"
     ]
    }
   ],
   "execution_count": 7
  },
  {
   "metadata": {
    "ExecuteTime": {
     "end_time": "2025-09-30T07:14:59.285006Z",
     "start_time": "2025-09-30T07:14:59.279586Z"
    }
   },
   "cell_type": "code",
   "source": [
    "x = torch.arange(24).view(2, 3, 4)  # 3D 텐서 생성 (배치=2, 행=3, 열=4)\n",
    "\n",
    "print(\"x 3차원 :\", x)\n",
    "print(\"3D Tensor Shape:\", x.shape)\n",
    "\n",
    "xflattened = x.view(2, -1)  # 배치 유지, 나머지는 자동 조정\n",
    "print(\"Flattened Shape:\", xflattened.shape)"
   ],
   "id": "f02a28fd3f48ff00",
   "outputs": [
    {
     "name": "stdout",
     "output_type": "stream",
     "text": [
      "x 3차원 : tensor([[[ 0,  1,  2,  3],\n",
      "         [ 4,  5,  6,  7],\n",
      "         [ 8,  9, 10, 11]],\n",
      "\n",
      "        [[12, 13, 14, 15],\n",
      "         [16, 17, 18, 19],\n",
      "         [20, 21, 22, 23]]])\n",
      "3D Tensor Shape: torch.Size([2, 3, 4])\n",
      "Flattened Shape: torch.Size([2, 12])\n"
     ]
    }
   ],
   "execution_count": 8
  },
  {
   "metadata": {
    "ExecuteTime": {
     "end_time": "2025-09-30T07:14:59.298484Z",
     "start_time": "2025-09-30T07:14:59.293992Z"
    }
   },
   "cell_type": "code",
   "source": [
    "import torch\n",
    "\n",
    "x = torch.randn(1, 3, 1, 4)  # (Batch=1, Channels=3, Height=1, Width=4)\n",
    "\n",
    "x_squeezed = x.squeeze()  # 크기가 1인 차원을 제거\n",
    "\n",
    "print(x.shape)          # torch.Size([1, 3, 1, 4])\n",
    "print(x_squeezed.shape) # torch.Size([3, 4])"
   ],
   "id": "56549977d3b8dc21",
   "outputs": [
    {
     "name": "stdout",
     "output_type": "stream",
     "text": [
      "torch.Size([1, 3, 1, 4])\n",
      "torch.Size([3, 4])\n"
     ]
    }
   ],
   "execution_count": 9
  }
 ],
 "metadata": {
  "kernelspec": {
   "display_name": "Python 3",
   "language": "python",
   "name": "python3"
  },
  "language_info": {
   "codemirror_mode": {
    "name": "ipython",
    "version": 2
   },
   "file_extension": ".py",
   "mimetype": "text/x-python",
   "name": "python",
   "nbconvert_exporter": "python",
   "pygments_lexer": "ipython2",
   "version": "2.7.6"
  }
 },
 "nbformat": 4,
 "nbformat_minor": 5
}
